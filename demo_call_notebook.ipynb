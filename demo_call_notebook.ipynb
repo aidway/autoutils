{
 "cells": [
  {
   "cell_type": "code",
   "execution_count": 3,
   "id": "6cae81c2",
   "metadata": {},
   "outputs": [
    {
     "name": "stdout",
     "output_type": "stream",
     "text": [
      "importing Jupyter notebook from demo_notebook_udf.ipynb\n",
      "importing Jupyter notebook from demo_notebook_udf.ipynb\n"
     ]
    },
    {
     "data": {
      "text/plain": [
       "<module 'demo_notebook_udf' from 'demo_notebook_udf.ipynb'>"
      ]
     },
     "execution_count": 3,
     "metadata": {},
     "output_type": "execute_result"
    }
   ],
   "source": [
    "import Ipynb_importer\n",
    "\n",
    "import demo_notebook_udf\n",
    "from imp import reload\n",
    "\n",
    "reload(demo_notebook_udf)\n"
   ]
  },
  {
   "cell_type": "code",
   "execution_count": 4,
   "id": "908ae6de",
   "metadata": {},
   "outputs": [
    {
     "name": "stdout",
     "output_type": "stream",
     "text": [
      "hello China!\n"
     ]
    }
   ],
   "source": [
    "demo_notebook_udf.hello()"
   ]
  },
  {
   "cell_type": "code",
   "execution_count": 6,
   "id": "3a91c740",
   "metadata": {},
   "outputs": [
    {
     "data": {
      "text/plain": [
       "2.0518284528683193"
      ]
     },
     "execution_count": 6,
     "metadata": {},
     "output_type": "execute_result"
    }
   ],
   "source": [
    "demo_notebook_udf.cal(1.4, 1.5)"
   ]
  },
  {
   "cell_type": "code",
   "execution_count": null,
   "id": "66ee46e4",
   "metadata": {},
   "outputs": [],
   "source": []
  }
 ],
 "metadata": {
  "kernelspec": {
   "display_name": "Python 3",
   "language": "python",
   "name": "python3"
  },
  "language_info": {
   "codemirror_mode": {
    "name": "ipython",
    "version": 3
   },
   "file_extension": ".py",
   "mimetype": "text/x-python",
   "name": "python",
   "nbconvert_exporter": "python",
   "pygments_lexer": "ipython3",
   "version": "3.8.8"
  },
  "toc": {
   "base_numbering": 1,
   "nav_menu": {},
   "number_sections": true,
   "sideBar": true,
   "skip_h1_title": false,
   "title_cell": "Table of Contents",
   "title_sidebar": "Contents",
   "toc_cell": false,
   "toc_position": {},
   "toc_section_display": true,
   "toc_window_display": false
  }
 },
 "nbformat": 4,
 "nbformat_minor": 5
}
