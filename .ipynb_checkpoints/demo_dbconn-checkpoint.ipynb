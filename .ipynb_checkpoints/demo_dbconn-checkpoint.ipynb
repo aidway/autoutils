{
 "cells": [
  {
   "cell_type": "code",
   "execution_count": null,
   "id": "e7c8adee",
   "metadata": {},
   "outputs": [],
   "source": [
    "%matplotlib inline\n",
    "import numpy as np\n",
    "import pandas as pd\n",
    "import matplotlib.pyplot as plt\n",
    "\n",
    "import configparser\n",
    "\n",
    "from datetime import datetime\n",
    "\n",
    "\n",
    "\n",
    "import getpass\n",
    "from imp import reload\n",
    "import sys\n",
    "autoutils_path = '/home/' + getpass.getuser()\n",
    "sys.path.append(autoutils_path)\n",
    "sys.path.append('.')\n",
    "# from autoutils import dbutils\n",
    " \n",
    "\n",
    "import dbutils\n",
    "reload(dbutils)\n",
    "\n",
    "print('autoutils_path=', autoutils_path)\n",
    " "
   ]
  },
  {
   "cell_type": "code",
   "execution_count": null,
   "id": "8f02eea9",
   "metadata": {},
   "outputs": [],
   "source": []
  },
  {
   "cell_type": "markdown",
   "id": "fd91ad99",
   "metadata": {},
   "source": [
    "# dbutils\n",
    "需要先修改 ./conf/dbutils.conf 配置文件"
   ]
  },
  {
   "cell_type": "code",
   "execution_count": null,
   "id": "1b743db8",
   "metadata": {},
   "outputs": [],
   "source": [
    "print('Impyla连接测试.')\n",
    "sql = \"SELECT sysdate from system.dual\"\n",
    "dbtest = dbutils.execSqlImpyla(sql)\n",
    "dbtest"
   ]
  },
  {
   "cell_type": "code",
   "execution_count": null,
   "id": "f63287d5",
   "metadata": {},
   "outputs": [],
   "source": [
    "print('Pyhive连接测试.')\n",
    "sql = \"SELECT sysdate from system.dual\"\n",
    "dbutils.execSqlPyhive(sql)"
   ]
  },
  {
   "cell_type": "code",
   "execution_count": null,
   "id": "00ea3bc3",
   "metadata": {},
   "outputs": [],
   "source": [
    "print('Pyodbc连接测试.')\n",
    "sql = \"SELECT sysdate from system.dual\"\n",
    "dbutils.execSqlPyodc(sql)"
   ]
  },
  {
   "cell_type": "code",
   "execution_count": null,
   "id": "f6ad3ed0",
   "metadata": {},
   "outputs": [],
   "source": []
  }
 ],
 "metadata": {
  "kernelspec": {
   "display_name": "Python 3",
   "language": "python",
   "name": "python3"
  },
  "language_info": {
   "codemirror_mode": {
    "name": "ipython",
    "version": 3
   },
   "file_extension": ".py",
   "mimetype": "text/x-python",
   "name": "python",
   "nbconvert_exporter": "python",
   "pygments_lexer": "ipython3",
   "version": "3.8.8"
  },
  "toc": {
   "base_numbering": 1,
   "nav_menu": {},
   "number_sections": true,
   "sideBar": true,
   "skip_h1_title": false,
   "title_cell": "Table of Contents",
   "title_sidebar": "Contents",
   "toc_cell": false,
   "toc_position": {
    "height": "calc(100% - 180px)",
    "left": "10px",
    "top": "150px",
    "width": "281.746px"
   },
   "toc_section_display": true,
   "toc_window_display": true
  }
 },
 "nbformat": 4,
 "nbformat_minor": 5
}
